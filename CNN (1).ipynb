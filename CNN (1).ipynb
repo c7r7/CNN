{
 "cells": [
  {
   "cell_type": "markdown",
   "id": "301b97d2",
   "metadata": {},
   "source": [
    "# NAME : S.CHARAN RAJU"
   ]
  },
  {
   "cell_type": "markdown",
   "id": "970d1ff9",
   "metadata": {},
   "source": [
    "# REG-NO : 19BAI1149"
   ]
  },
  {
   "cell_type": "code",
   "execution_count": 31,
   "id": "dc062efa",
   "metadata": {},
   "outputs": [],
   "source": [
    "import tensorflow as tf\n",
    "from tensorflow.keras import datasets, layers, models,callbacks\n",
    "import matplotlib.pyplot as plt"
   ]
  },
  {
   "cell_type": "markdown",
   "id": "05c9c14a",
   "metadata": {},
   "source": [
    "# A1 : CNN with two Conv layers"
   ]
  },
  {
   "cell_type": "code",
   "execution_count": 3,
   "id": "acf2def6",
   "metadata": {},
   "outputs": [],
   "source": [
    "train_datagen_with_transforms = tf.keras.preprocessing.image.ImageDataGenerator(\n",
    "    rescale=1./255,\n",
    "    zoom_range=0.2,\n",
    "    horizontal_flip=True)\n",
    "train_datagen_with_no_transforms = tf.keras.preprocessing.image.ImageDataGenerator(\n",
    "    rescale=1./255)\n",
    "val_datagen = tf.keras.preprocessing.image.ImageDataGenerator(\n",
    "        rescale=1./255)"
   ]
  },
  {
   "cell_type": "code",
   "execution_count": 37,
   "id": "307fb28e",
   "metadata": {},
   "outputs": [
    {
     "name": "stdout",
     "output_type": "stream",
     "text": [
      "Found 60000 images belonging to 1 classes.\n",
      "Found 60000 images belonging to 1 classes.\n",
      "Found 60000 images belonging to 1 classes.\n"
     ]
    }
   ],
   "source": [
    "train_generator = train_datagen_with_no_transforms.flow_from_directory(\n",
    "    'C:\\\\Users\\\\Charan\\\\Desktop\\\\cifar10',\n",
    "    target_size=(32, 32),\n",
    "    batch_size=32,\n",
    "    class_mode=\"sparse\"\n",
    ")\n",
    "train_generator_with_data_augmentation = train_datagen_with_transforms.flow_from_directory(\n",
    "    'C:\\\\Users\\\\Charan\\\\Desktop\\\\cifar10',\n",
    "    target_size=(32, 32),\n",
    "    batch_size=32,\n",
    "    class_mode=\"sparse\"\n",
    ")\n",
    "validation_generator = val_datagen.flow_from_directory(\n",
    "    'C:\\\\Users\\\\Charan\\\\Desktop\\\\cifar10',\n",
    "    target_size=(32, 32),\n",
    "    batch_size=32,\n",
    "    class_mode=\"sparse\"\n",
    ")"
   ]
  },
  {
   "cell_type": "code",
   "execution_count": 8,
   "id": "f363246d",
   "metadata": {},
   "outputs": [
    {
     "data": {
      "text/plain": [
       "(32, 32, 32, 3)"
      ]
     },
     "execution_count": 8,
     "metadata": {},
     "output_type": "execute_result"
    }
   ],
   "source": [
    "sample_data = next(validation_generator)\n",
    "sample_data[0].shape"
   ]
  },
  {
   "cell_type": "code",
   "execution_count": 9,
   "id": "8504d922",
   "metadata": {},
   "outputs": [],
   "source": [
    "nb_train_samples = train_generator.samples\n",
    "nb_val_samples = validation_generator.samples"
   ]
  },
  {
   "cell_type": "code",
   "execution_count": 10,
   "id": "e0a5acbe",
   "metadata": {},
   "outputs": [],
   "source": [
    "model =models.Sequential()\n",
    "model.add(tf.keras.layers.Conv2D(16, (3,3), activation=\"relu\", input_shape=(32,32,3), padding=\"same\"))\n",
    "model.add(tf.keras.layers.Conv2D(16, (3,3), activation=\"relu\", padding=\"same\"))\n",
    "model.add(tf.keras.layers.Flatten())\n",
    "model.add(tf.keras.layers.Dense(64, activation=\"relu\"))\n",
    "model.add(tf.keras.layers.Dense(10))"
   ]
  },
  {
   "cell_type": "code",
   "execution_count": 7,
   "id": "32af78ab",
   "metadata": {},
   "outputs": [],
   "source": [
    "loss_fn = tf.keras.losses.SparseCategoricalCrossentropy(from_logits=True)\n",
    "optimizer_fn = tf.keras.optimizers.Adam(learning_rate=0.001)"
   ]
  },
  {
   "cell_type": "code",
   "execution_count": 10,
   "id": "97d99098",
   "metadata": {},
   "outputs": [],
   "source": [
    "model.compile(optimizer=optimizer_fn,\n",
    "              loss=loss_fn,\n",
    "              metrics=['accuracy'])"
   ]
  },
  {
   "cell_type": "code",
   "execution_count": 11,
   "id": "93df86bd",
   "metadata": {},
   "outputs": [
    {
     "name": "stdout",
     "output_type": "stream",
     "text": [
      "Epoch 1/18\n",
      "1875/1875 [==============================] - 145s 77ms/step - loss: 6.7552e-11 - accuracy: 1.0000 - val_loss: 5.1657e-11 - val_accuracy: 1.0000\n",
      "Epoch 2/18\n",
      "1875/1875 [==============================] - 164s 88ms/step - loss: 4.5697e-11 - accuracy: 1.0000 - val_loss: 2.9802e-11 - val_accuracy: 1.0000\n",
      "Epoch 3/18\n",
      "1875/1875 [==============================] - 166s 89ms/step - loss: 2.5829e-11 - accuracy: 1.0000 - val_loss: 1.7881e-11 - val_accuracy: 1.0000\n",
      "Epoch 4/18\n",
      "1875/1875 [==============================] - 165s 88ms/step - loss: 1.5895e-11 - accuracy: 1.0000 - val_loss: 7.9473e-12 - val_accuracy: 1.0000\n",
      "Epoch 5/18\n",
      "1875/1875 [==============================] - 164s 88ms/step - loss: 5.9605e-12 - accuracy: 1.0000 - val_loss: 5.9605e-12 - val_accuracy: 1.0000\n",
      "Epoch 6/18\n",
      "1875/1875 [==============================] - 167s 89ms/step - loss: 3.9736e-12 - accuracy: 1.0000 - val_loss: 1.9868e-12 - val_accuracy: 1.0000\n",
      "Epoch 7/18\n",
      "1875/1875 [==============================] - 150s 80ms/step - loss: 1.9868e-12 - accuracy: 1.0000 - val_loss: 1.9868e-12 - val_accuracy: 1.0000\n",
      "Epoch 8/18\n",
      "1875/1875 [==============================] - 148s 79ms/step - loss: 1.9868e-12 - accuracy: 1.0000 - val_loss: 1.9868e-12 - val_accuracy: 1.0000\n",
      "Epoch 9/18\n",
      "1875/1875 [==============================] - 165s 88ms/step - loss: 1.9868e-12 - accuracy: 1.0000 - val_loss: 0.0000e+00 - val_accuracy: 1.0000\n",
      "Epoch 10/18\n",
      "1875/1875 [==============================] - 157s 84ms/step - loss: 0.0000e+00 - accuracy: 1.0000 - val_loss: 0.0000e+00 - val_accuracy: 1.0000\n",
      "Epoch 11/18\n",
      "1875/1875 [==============================] - 147s 79ms/step - loss: 0.0000e+00 - accuracy: 1.0000 - val_loss: 0.0000e+00 - val_accuracy: 1.0000\n",
      "Epoch 12/18\n",
      "1875/1875 [==============================] - 141s 75ms/step - loss: 0.0000e+00 - accuracy: 1.0000 - val_loss: 0.0000e+00 - val_accuracy: 1.0000\n",
      "Epoch 13/18\n",
      "1875/1875 [==============================] - 139s 74ms/step - loss: 0.0000e+00 - accuracy: 1.0000 - val_loss: 0.0000e+00 - val_accuracy: 1.0000\n",
      "Epoch 14/18\n",
      "1875/1875 [==============================] - 136s 73ms/step - loss: 0.0000e+00 - accuracy: 1.0000 - val_loss: 0.0000e+00 - val_accuracy: 1.0000\n",
      "Epoch 15/18\n",
      "1875/1875 [==============================] - 138s 74ms/step - loss: 0.0000e+00 - accuracy: 1.0000 - val_loss: 0.0000e+00 - val_accuracy: 1.0000\n",
      "Epoch 16/18\n",
      "1875/1875 [==============================] - 150s 80ms/step - loss: 0.0000e+00 - accuracy: 1.0000 - val_loss: 0.0000e+00 - val_accuracy: 1.0000\n",
      "Epoch 17/18\n",
      "1875/1875 [==============================] - 150s 80ms/step - loss: 0.0000e+00 - accuracy: 1.0000 - val_loss: 0.0000e+00 - val_accuracy: 1.0000\n",
      "Epoch 18/18\n",
      "1875/1875 [==============================] - 146s 78ms/step - loss: 0.0000e+00 - accuracy: 1.0000 - val_loss: 0.0000e+00 - val_accuracy: 1.0000\n"
     ]
    }
   ],
   "source": [
    "history = model.fit_generator(train_generator, steps_per_epoch=nb_train_samples/32, \n",
    "                    epochs=18, validation_data=validation_generator,\n",
    "                    validation_steps=nb_val_samples/32)"
   ]
  },
  {
   "cell_type": "code",
   "execution_count": 26,
   "id": "8319cafe",
   "metadata": {},
   "outputs": [
    {
     "data": {
      "image/png": "[encoded data removed]",
      "text/plain": [
       "<Figure size 720x288 with 2 Axes>"
      ]
     },
     "metadata": {
      "needs_background": "light"
     },
     "output_type": "display_data"
    }
   ],
   "source": [
    "#plot \n",
    "figure= plt.figure(figsize=(10,4))\n",
    "ax = plt.subplot(121)\n",
    "ax.plot(history.history['loss'], 'r', label='train')\n",
    "ax.plot(history.history['val_loss'], 'g', label='val')\n",
    "\n",
    "plt.legend()\n",
    "plt.grid(axis='y')\n",
    "plt.xlabel(\"epoch\")\n",
    "plt.ylabel(\"Loss\")\n",
    "\n",
    "ax2 = plt.subplot(122)\n",
    "ax2.plot(history.history['accuracy'], 'b', label=\"train\")\n",
    "ax2.plot(history.history['val_accuracy'], 'g', label=\"val\")\n",
    "plt.legend()\n",
    "plt.xlabel(\"epoch\")\n",
    "plt.ylabel(\"accuracy\")\n",
    "plt.grid(axis='y')\n",
    "plt.savefig(\"cifar10_training_val_no_dropout\")\n"
   ]
  },
  {
   "cell_type": "markdown",
   "id": "0d28dffd",
   "metadata": {},
   "source": [
    "# A2 : CNN with two layers + data augmentation"
   ]
  },
  {
   "cell_type": "code",
   "execution_count": 12,
   "id": "7e77227e",
   "metadata": {},
   "outputs": [],
   "source": [
    "model =models.Sequential()\n",
    "model.add(tf.keras.layers.Conv2D(16, (3,3), activation=\"relu\", input_shape=(32,32,3), padding=\"same\"))\n",
    "model.add(tf.keras.layers.Conv2D(16, (3,3), activation=\"relu\", padding=\"same\"))\n",
    "model.add(tf.keras.layers.Flatten())\n",
    "model.add(tf.keras.layers.Dense(64, activation=\"relu\"))\n",
    "model.add(tf.keras.layers.Dense(10))"
   ]
  },
  {
   "cell_type": "code",
   "execution_count": 13,
   "id": "0255d125",
   "metadata": {},
   "outputs": [],
   "source": [
    "loss_fn = tf.keras.losses.SparseCategoricalCrossentropy(from_logits=True)\n",
    "optimizer_fn = tf.keras.optimizers.Adam(learning_rate=0.001)\n",
    "model.compile(optimizer=optimizer_fn,\n",
    "              loss=loss_fn,\n",
    "              metrics=['accuracy'])"
   ]
  },
  {
   "cell_type": "code",
   "execution_count": 16,
   "id": "8a0fa5a4",
   "metadata": {},
   "outputs": [
    {
     "name": "stdout",
     "output_type": "stream",
     "text": [
      "Epoch 1/20\n",
      "1875/1875 [==============================] - 115s 61ms/step - loss: 2.1855e-11 - accuracy: 1.0000 - val_loss: 7.9473e-12 - val_accuracy: 1.0000\n",
      "Epoch 2/20\n",
      "1875/1875 [==============================] - 117s 63ms/step - loss: 9.9341e-12 - accuracy: 1.0000 - val_loss: 1.9868e-12 - val_accuracy: 1.0000\n",
      "Epoch 3/20\n",
      "1875/1875 [==============================] - 117s 62ms/step - loss: 1.1921e-11 - accuracy: 1.0000 - val_loss: 0.0000e+00 - val_accuracy: 1.0000\n",
      "Epoch 4/20\n",
      "1875/1875 [==============================] - 116s 62ms/step - loss: 0.0000e+00 - accuracy: 1.0000 - val_loss: 0.0000e+00 - val_accuracy: 1.0000\n",
      "Epoch 5/20\n",
      "1875/1875 [==============================] - 116s 62ms/step - loss: 0.0000e+00 - accuracy: 1.0000 - val_loss: 0.0000e+00 - val_accuracy: 1.0000\n",
      "Epoch 6/20\n",
      "1875/1875 [==============================] - 114s 61ms/step - loss: 0.0000e+00 - accuracy: 1.0000 - val_loss: 0.0000e+00 - val_accuracy: 1.0000\n",
      "Epoch 7/20\n",
      "1875/1875 [==============================] - 165s 88ms/step - loss: 0.0000e+00 - accuracy: 1.0000 - val_loss: 0.0000e+00 - val_accuracy: 1.0000\n",
      "Epoch 8/20\n",
      "1875/1875 [==============================] - 187s 100ms/step - loss: 0.0000e+00 - accuracy: 1.0000 - val_loss: 0.0000e+00 - val_accuracy: 1.0000\n",
      "Epoch 9/20\n",
      "1875/1875 [==============================] - 146s 78ms/step - loss: 0.0000e+00 - accuracy: 1.0000 - val_loss: 0.0000e+00 - val_accuracy: 1.0000\n",
      "Epoch 10/20\n",
      "1875/1875 [==============================] - 136s 73ms/step - loss: 0.0000e+00 - accuracy: 1.0000 - val_loss: 0.0000e+00 - val_accuracy: 1.0000\n",
      "Epoch 11/20\n",
      "1875/1875 [==============================] - 136s 73ms/step - loss: 0.0000e+00 - accuracy: 1.0000 - val_loss: 0.0000e+00 - val_accuracy: 1.0000\n",
      "Epoch 12/20\n",
      "1875/1875 [==============================] - 136s 73ms/step - loss: 0.0000e+00 - accuracy: 1.0000 - val_loss: 0.0000e+00 - val_accuracy: 1.0000\n",
      "Epoch 13/20\n",
      "1875/1875 [==============================] - 132s 70ms/step - loss: 0.0000e+00 - accuracy: 1.0000 - val_loss: 0.0000e+00 - val_accuracy: 1.0000\n",
      "Epoch 14/20\n",
      "1875/1875 [==============================] - 134s 71ms/step - loss: 0.0000e+00 - accuracy: 1.0000 - val_loss: 0.0000e+00 - val_accuracy: 1.0000\n",
      "Epoch 15/20\n",
      "1875/1875 [==============================] - 136s 72ms/step - loss: 0.0000e+00 - accuracy: 1.0000 - val_loss: 0.0000e+00 - val_accuracy: 1.0000\n",
      "Epoch 16/20\n",
      "1875/1875 [==============================] - 135s 72ms/step - loss: 0.0000e+00 - accuracy: 1.0000 - val_loss: 0.0000e+00 - val_accuracy: 1.0000\n",
      "Epoch 17/20\n",
      "1875/1875 [==============================] - 131s 70ms/step - loss: 0.0000e+00 - accuracy: 1.0000 - val_loss: 0.0000e+00 - val_accuracy: 1.0000\n",
      "Epoch 18/20\n",
      "1875/1875 [==============================] - 129s 69ms/step - loss: 0.0000e+00 - accuracy: 1.0000 - val_loss: 0.0000e+00 - val_accuracy: 1.0000\n",
      "Epoch 19/20\n",
      "1875/1875 [==============================] - 136s 72ms/step - loss: 0.0000e+00 - accuracy: 1.0000 - val_loss: 0.0000e+00 - val_accuracy: 1.0000\n",
      "Epoch 20/20\n",
      "1875/1875 [==============================] - 133s 71ms/step - loss: 1.9868e-12 - accuracy: 1.0000 - val_loss: 0.0000e+00 - val_accuracy: 1.0000\n"
     ]
    }
   ],
   "source": [
    "# history = model.fit(x_train, y_train, validation_data=(x_test, y_test),epochs=15)\n",
    "history = model.fit_generator(train_generator_with_data_augmentation, steps_per_epoch=nb_train_samples/32, \n",
    "                    epochs=20, validation_data=validation_generator,\n",
    "                    validation_steps=nb_val_samples/32)"
   ]
  },
  {
   "cell_type": "code",
   "execution_count": 17,
   "id": "c5bd9358",
   "metadata": {},
   "outputs": [
    {
     "data": {
      "image/png": "[encoded data removed]",
      "text/plain": [
       "<Figure size 720x288 with 2 Axes>"
      ]
     },
     "metadata": {
      "needs_background": "light"
     },
     "output_type": "display_data"
    }
   ],
   "source": [
    "figure= plt.figure(figsize=(10,4))\n",
    "ax = plt.subplot(121)\n",
    "ax.plot(history.history['loss'], 'r', label='train')\n",
    "ax.plot(history.history['val_loss'], 'g', label='val')\n",
    "\n",
    "plt.legend()\n",
    "plt.grid(axis='y')\n",
    "plt.xlabel(\"epoch\")\n",
    "plt.ylabel(\"Loss\")\n",
    "\n",
    "ax2 = plt.subplot(122)\n",
    "ax2.plot(history.history['accuracy'], 'b', label=\"train\")\n",
    "ax2.plot(history.history['val_accuracy'], 'g', label=\"val\")\n",
    "plt.legend()\n",
    "plt.xlabel(\"epoch\")\n",
    "plt.ylabel(\"accuracy\")\n",
    "plt.grid(axis='y')\n",
    "plt.savefig(\"cifar10_training_val_data_augmentation\")"
   ]
  },
  {
   "cell_type": "markdown",
   "id": "d85e95bd",
   "metadata": {},
   "source": [
    "# B1 : CNN with maxpooling layers"
   ]
  },
  {
   "cell_type": "code",
   "execution_count": 18,
   "id": "937502fd",
   "metadata": {},
   "outputs": [],
   "source": [
    "# Add Maxpooling and Dropout Layers\n",
    "model2 =models.Sequential()\n",
    "model2.add(tf.keras.layers.Conv2D(16, (3,3), activation=\"relu\", input_shape=(32,32,3), padding=\"same\"))\n",
    "model2.add(tf.keras.layers.MaxPooling2D(2,2))\n",
    "model2.add(tf.keras.layers.Conv2D(16, (3,3), activation=\"relu\", padding=\"same\"))\n",
    "model2.add(tf.keras.layers.Flatten())\n",
    "model2.add(tf.keras.layers.Dropout(0.4))\n",
    "model2.add(tf.keras.layers.Dense(64, activation=\"relu\"))\n",
    "model2.add(tf.keras.layers.Dense(10))"
   ]
  },
  {
   "cell_type": "code",
   "execution_count": 19,
   "id": "ffdf9d2d",
   "metadata": {},
   "outputs": [],
   "source": [
    "model2.compile(optimizer=optimizer_fn,\n",
    "              loss=loss_fn,\n",
    "              metrics=['accuracy'])"
   ]
  },
  {
   "cell_type": "code",
   "execution_count": 20,
   "id": "e642527d",
   "metadata": {},
   "outputs": [
    {
     "name": "stdout",
     "output_type": "stream",
     "text": [
      "Epoch 1/10\n",
      "1875/1875 [==============================] - 85s 45ms/step - loss: 9.6060e-04 - accuracy: 0.9998 - val_loss: 0.0000e+00 - val_accuracy: 1.0000\n",
      "Epoch 2/10\n",
      "1875/1875 [==============================] - 73s 39ms/step - loss: 0.0000e+00 - accuracy: 1.0000 - val_loss: 0.0000e+00 - val_accuracy: 1.0000\n",
      "Epoch 3/10\n",
      "1875/1875 [==============================] - 59s 31ms/step - loss: 0.0000e+00 - accuracy: 1.0000 - val_loss: 0.0000e+00 - val_accuracy: 1.0000\n",
      "Epoch 4/10\n",
      "1875/1875 [==============================] - 60s 32ms/step - loss: 0.0000e+00 - accuracy: 1.0000 - val_loss: 0.0000e+00 - val_accuracy: 1.0000\n",
      "Epoch 5/10\n",
      "1875/1875 [==============================] - 60s 32ms/step - loss: 0.0000e+00 - accuracy: 1.0000 - val_loss: 0.0000e+00 - val_accuracy: 1.0000\n",
      "Epoch 6/10\n",
      "1875/1875 [==============================] - 61s 32ms/step - loss: 0.0000e+00 - accuracy: 1.0000 - val_loss: 0.0000e+00 - val_accuracy: 1.0000\n",
      "Epoch 7/10\n",
      "1875/1875 [==============================] - 60s 32ms/step - loss: 0.0000e+00 - accuracy: 1.0000 - val_loss: 0.0000e+00 - val_accuracy: 1.0000\n",
      "Epoch 8/10\n",
      "1875/1875 [==============================] - 60s 32ms/step - loss: 0.0000e+00 - accuracy: 1.0000 - val_loss: 0.0000e+00 - val_accuracy: 1.0000\n",
      "Epoch 9/10\n",
      "1875/1875 [==============================] - 61s 32ms/step - loss: 0.0000e+00 - accuracy: 1.0000 - val_loss: 0.0000e+00 - val_accuracy: 1.0000\n",
      "Epoch 10/10\n",
      "1875/1875 [==============================] - 61s 32ms/step - loss: 0.0000e+00 - accuracy: 1.0000 - val_loss: 0.0000e+00 - val_accuracy: 1.0000\n"
     ]
    }
   ],
   "source": [
    "history = model2.fit_generator(train_generator, steps_per_epoch=nb_train_samples/32, \n",
    "                    epochs=10, validation_data=validation_generator,\n",
    "                    validation_steps=nb_val_samples/32)"
   ]
  },
  {
   "cell_type": "code",
   "execution_count": 21,
   "id": "099820dd",
   "metadata": {},
   "outputs": [
    {
     "data": {
      "image/png": "[encoded data removed]",
      "text/plain": [
       "<Figure size 720x288 with 2 Axes>"
      ]
     },
     "metadata": {
      "needs_background": "light"
     },
     "output_type": "display_data"
    }
   ],
   "source": [
    "figure= plt.figure(figsize=(10,4))\n",
    "ax = plt.subplot(121)\n",
    "ax.plot(history.history['loss'], 'r', label='train')\n",
    "ax.plot(history.history['val_loss'], 'g', label='val')\n",
    "\n",
    "plt.legend()\n",
    "plt.grid(axis='y')\n",
    "plt.xlabel(\"epoch\")\n",
    "plt.ylabel(\"Loss\")\n",
    "\n",
    "ax2 = plt.subplot(122)\n",
    "ax2.plot(history.history['accuracy'], 'b', label=\"train\")\n",
    "ax2.plot(history.history['val_accuracy'], 'g', label=\"val\")\n",
    "plt.legend()\n",
    "plt.xlabel(\"epoch\")\n",
    "plt.ylabel(\"accuracy\")\n",
    "plt.grid(axis='y')\n",
    "plt.savefig(\"cifar10_training_val_with0_dropout_maxpool\")"
   ]
  },
  {
   "cell_type": "markdown",
   "id": "3df69a0c",
   "metadata": {},
   "source": [
    "# B2 : CNN with maxpooling + data augmentation"
   ]
  },
  {
   "cell_type": "code",
   "execution_count": 22,
   "id": "5be9f068",
   "metadata": {},
   "outputs": [],
   "source": [
    "model2 =models.Sequential()\n",
    "model2.add(tf.keras.layers.Conv2D(16, (3,3), activation=\"relu\", input_shape=(32,32,3), padding=\"same\"))\n",
    "model2.add(tf.keras.layers.MaxPooling2D(2,2))\n",
    "model2.add(tf.keras.layers.Conv2D(16, (3,3), activation=\"relu\", padding=\"same\"))\n",
    "model2.add(tf.keras.layers.Flatten())\n",
    "model2.add(tf.keras.layers.Dropout(0.4))\n",
    "model2.add(tf.keras.layers.Dense(64, activation=\"relu\"))\n",
    "model2.add(tf.keras.layers.Dense(10))"
   ]
  },
  {
   "cell_type": "code",
   "execution_count": 23,
   "id": "df99da1c",
   "metadata": {},
   "outputs": [],
   "source": [
    "model2.compile(optimizer=optimizer_fn,\n",
    "              loss=loss_fn,\n",
    "              metrics=['accuracy'])"
   ]
  },
  {
   "cell_type": "code",
   "execution_count": 24,
   "id": "4276a808",
   "metadata": {},
   "outputs": [
    {
     "name": "stdout",
     "output_type": "stream",
     "text": [
      "Epoch 1/27\n",
      "1875/1875 [==============================] - 82s 43ms/step - loss: 0.0015 - accuracy: 0.9995 - val_loss: 0.0000e+00 - val_accuracy: 1.0000\n",
      "Epoch 2/27\n",
      "1875/1875 [==============================] - 85s 45ms/step - loss: 0.0000e+00 - accuracy: 1.0000 - val_loss: 0.0000e+00 - val_accuracy: 1.0000TA: 55s - loss: 0.0000e+00 - accurac - ETA: 54s - loss: 0.0000e+00 - accura - ETA: 54s - loss: 0.0000e - ETA: 52s - loss:  - ETA: 50s - loss: 0.00 - ETA: 49s - loss: 0.0000e+00 - accu - ETA: 48s - loss: 0.0000e+00 - accuracy: 1.00 - ETA: 48s - los - ETA: 46s - loss - ETA: 43s - loss: 0.0000e+00 - accuracy: 1.0 - ETA: 43s - loss: 0.0000e+00 - accuracy:  - ETA: 43s - loss: 0.0000e+00 - ETA: 42s - loss: 0.0000e+00 - accur - ETA: 41s - loss: 0.0000e+00 - accuracy: - ETA: 37s - loss: 0.0000e+00 - accurac - ETA: 36s - loss: 0.0000e+00 - accuracy: 1 - - ETA: 14s - loss: 0.0000e+00 - accuracy: 1.000 - ETA: 14s - loss: 0.0000e+00 - ac - ETA: 13s - loss: 0.0000e+00 - accuracy - ETA: 12s - loss: - E - ETA: 5s - loss: 0.0000e - ETA: 4s - ETA:  - ETA: 2s - loss: 0.0000e+0 - ETA: 0s - loss: 0.0000e+00 - accuracy: 1.\n",
      "Epoch 3/27\n",
      "1875/1875 [==============================] - 86s 46ms/step - loss: 0.0000e+00 - accuracy: 1.0000 - val_loss: 0.0000e+00 - val_accuracy: 1.0000\n",
      "Epoch 4/27\n",
      "1875/1875 [==============================] - 85s 45ms/step - loss: 0.0000e+00 - accuracy: 1.0000 - val_loss: 0.0000e+00 - val_accuracy: 1.0000 - loss: 0.000 - ETA: 54s - loss: 0.0000e+00 - - ETA: 49s - loss: 0.0000e+00  - ETA: 45s - loss: 0.0000e+00 - - ETA: 28s - - ETA: 26s - loss: 0.0000e+00 - accuracy: 1.00 - ETA: 25s - loss: 0.0000e+00 - accuracy - ETA: 25s - loss: 0.0000e+00 - accura - ETA: 24s \n",
      "Epoch 5/27\n",
      "1875/1875 [==============================] - 86s 46ms/step - loss: 0.0000e+00 - accuracy: 1.0000 - val_loss: 0.0000e+00 - val_accuracy: 1.0000\n",
      "Epoch 6/27\n",
      "1875/1875 [==============================] - 87s 46ms/step - loss: 0.0000e+00 - accuracy: 1.0000 - val_loss: 0.0000e+00 - val_accuracy: 1.0000: 1.000 - ETA: 59s - loss: 0.0000e+00 - accura - ETA: 58s - loss: 0.0000e+00 - accur - ETA: 58s - los - ETA: 37s - loss: 0\n",
      "Epoch 7/27\n",
      "1875/1875 [==============================] - 87s 46ms/step - loss: 0.0000e+00 - accuracy: 1.0000 - val_loss: 0.0000e+00 - val_accuracy: 1.0000 loss: 0.0000e+00 - accuracy\n",
      "Epoch 8/27\n",
      "1875/1875 [==============================] - 84s 45ms/step - loss: 0.0000e+00 - accuracy: 1.0000 - val_loss: 0.0000e+00 - val_accuracy: 1.00000.0000e+ - ETA: 46s - loss: 0.0000e+0 - ETA: 45s - loss: 0.0000e+00 - - ETA: 44s - loss: 0.0000e+00 - a - ETA: 43s - loss - ETA: 41s - loss: 0.0000e+00 - accu - ETA: 30s - loss: 0.0000e+00 - accura - ETA: 30s - los - ETA: 28s - loss: 0.0000e+00 - accurac - ETA: 27s - loss: 0.000 - ETA: 25s - loss: 0.0000e+00 - accuracy: - ETA: 25s - loss: 0.0000e+00  - ETA: 24s - loss: 0.0000e+00 - accuracy: 1. - ETA: 24s - loss: 0.0000e+00 - accuracy: - ETA: 23s - loss: 0.000 - ETA: 21s - lo - ETA: 19s - loss: 0.0000e+00 - accuracy: 1.00 - ETA: 19s - loss: 0.0000e+00 -  - ETA: 18s - - ETA: 16s - loss: 0.0000e+00 - ETA: 12s - los - ETA: 0s - loss: 0.0000e+00 \n",
      "Epoch 9/27\n",
      "1875/1875 [==============================] - 83s 44ms/step - loss: 0.0000e+00 - accuracy: 1.0000 - val_loss: 0.0000e+00 - val_accuracy: 1.0000\n",
      "Epoch 10/27\n",
      "1875/1875 [==============================] - 87s 47ms/step - loss: 0.0000e+00 - accuracy: 1.0000 - val_loss: 0.0000e+00 - val_accuracy: 1.0000\n",
      "Epoch 11/27\n",
      "1875/1875 [==============================] - 90s 48ms/step - loss: 0.0000e+00 - accuracy: 1.0000 - val_loss: 0.0000e+00 - val_accuracy: 1.0000\n",
      "Epoch 12/27\n",
      "1875/1875 [==============================] - 106s 56ms/step - loss: 0.0000e+00 - accuracy: 1.0000 - val_loss: 0.0000e+00 - val_accuracy: 1.0000\n",
      "Epoch 13/27\n",
      "1875/1875 [==============================] - 111s 59ms/step - loss: 0.0000e+00 - accuracy: 1.0000 - val_loss: 0.0000e+00 - val_accuracy: 1.0000\n",
      "Epoch 14/27\n",
      "1875/1875 [==============================] - 115s 61ms/step - loss: 0.0000e+00 - accuracy: 1.0000 - val_loss: 0.0000e+00 - val_accuracy: 1.0000\n",
      "Epoch 15/27\n",
      "1875/1875 [==============================] - 116s 62ms/step - loss: 0.0000e+00 - accuracy: 1.0000 - val_loss: 0.0000e+00 - val_accuracy: 1.0000\n",
      "Epoch 16/27\n",
      "1875/1875 [==============================] - 116s 62ms/step - loss: 0.0000e+00 - accuracy: 1.0000 - val_loss: 0.0000e+00 - val_accuracy: 1.0000\n",
      "Epoch 17/27\n",
      "1875/1875 [==============================] - 117s 62ms/step - loss: 0.0000e+00 - accuracy: 1.0000 - val_loss: 0.0000e+00 - val_accuracy: 1.0000\n",
      "Epoch 18/27\n",
      "1875/1875 [==============================] - 116s 62ms/step - loss: 0.0000e+00 - accuracy: 1.0000 - val_loss: 0.0000e+00 - val_accuracy: 1.0000\n",
      "Epoch 19/27\n",
      "1875/1875 [==============================] - 115s 61ms/step - loss: 0.0000e+00 - accuracy: 1.0000 - val_loss: 0.0000e+00 - val_accuracy: 1.0000\n",
      "Epoch 20/27\n",
      "1875/1875 [==============================] - 108s 58ms/step - loss: 0.0000e+00 - accuracy: 1.0000 - val_loss: 0.0000e+00 - val_accuracy: 1.0000\n",
      "Epoch 21/27\n",
      "1875/1875 [==============================] - 107s 57ms/step - loss: 0.0000e+00 - accuracy: 1.0000 - val_loss: 0.0000e+00 - val_accuracy: 1.0000ss: 0.0000e+00 - accuracy - ETA: 1s - loss:\n",
      "Epoch 22/27\n",
      "1875/1875 [==============================] - 90s 48ms/step - loss: 0.0000e+00 - accuracy: 1.0000 - val_loss: 0.0000e+00 - val_accuracy: 1.00000e+00 - accu - ETA: 1:03 - loss: 0.0000e+00 -  - ETA: 1:02 - loss: 0.0000e+00 - accu - ETA: 1:01 - loss: 0.0000e+00 - accuracy: 1. - ETA: 1:00 - loss: 0.0000e+00 - accura - ETA: 1:00 - loss: 0.0000e+00 - accurac - ETA: 58s - loss: 0.0000 - ETA: 55s - loss: 0.0000e+00 - accuracy: 1.00 - ETA: 55s - loss: 0.0000e+00 -  - ETA: 53s - loss: 0.0000e+00 - accuracy: 1.000 - ETA: 53s - loss: 0.0000e+00 - accurac - ETA: 52s - loss: 0.0000e+00 - accuracy: 1.00 - ETA: 52s - loss: 0.0000e+00 - - ETA: 50s - loss: 0.0000e+00 - accuracy:  - ETA: 49s - loss: 0.0000e+00 - accuracy: 1.00 - ETA: 49s - loss: 0.0000e+00 - accu - ETA: 48s - loss: 0.0000 - ETA: 46s - loss: 0.0000e+00 - accuracy: 1.000 - ETA: 46s - loss: 0.0000e+00 - acc - ETA: 44s - loss: 0.0000e+00 - accurac - ETA: 44s - loss: 0.0000e+00 -  - ETA: 42s - loss: 0.0000e+00 - accuracy: 1.0 - ETA: 42s - loss: 0.0000e+00 - accuracy: 1.000 - ETA: 42s - loss: 0.0000e+00 - accuracy: 1.00 - ETA: 42s - loss: 0.0000e+00 - accuracy: 1 - ETA: 41s - loss: 0.0000e+00 - accuracy: 1.000 - ETA: 41s - loss: 0.0000e+00 - accuracy: 1 - ETA: 41s - loss: 0.0000e+00 - accuracy: 1.000 - ETA: 41s - loss: 0.0000e+00 - accuracy: 1.0 - ETA: 40s - loss: 0.0000e+00 - a - ETA: 39s - loss: 0.0000e+00 - accu - ETA: 38s - loss: 0.0000e+00  - ETA: 37s - loss: 0.0000e+00 - accuracy: 1.000 - ETA: 37s - loss: 0.0000e+00 - accuracy: 1 - ETA: 36s - loss: 0.0000e+0 - ETA: 35s - loss: 0.0000e+00 - a - ETA: 28s - loss: 0.0000e+00 - accuracy: 1. - ETA: 27s - loss: 0.0000e+00 - accur - ETA: 20s - loss: 0.0000e+00 - accuracy:  - ETA: 19s - loss: 0.0000e+0 - ETA: 18s - loss: 0.0000e+00 - accuracy: 1 - ETA: 17s - loss: 0.0000e+00 - accuracy: 1 - ETA: 17s - loss: 0.0000e+00 - accuracy: 1. - ETA: 17s - loss: 0.0000e+00 - accurac - ETA: 16s - loss: 0.0000e+00 - accuracy: 1.0 - ETA: 16s - loss: 0.0000e+00 - accuracy: 1. - ETA: 15s - loss: 0.0000e+00 - accuracy: 1. - ETA: 15s - loss: 0.0000e+00 - accuracy:  - ETA: 15s - loss: 0.0000e+00 - accuracy: 1.000 - ETA: 15s - loss: 0.0000e+00 - accur - ETA: 14s - loss: 0.0000e+00 - accuracy: 1.000 - ETA: 14s - loss: 0.0000e+00 - accuracy: 1.000 - ETA: 14s - loss: 0.0000e+00 - accuracy: - ETA: 13s - loss - ETA: 11s - loss: 0.0000e+00 - accuracy: - ETA: 6s - loss: 0.0000e+00 - accuracy - ETA: 6s - loss: 0.000 - ETA: 4s - loss: 0.0000e+00 - accuracy: 1.00 - ETA: 4s - loss: 0.0000e\n",
      "Epoch 23/27\n",
      "1875/1875 [==============================] - 85s 45ms/step - loss: 0.0000e+00 - accuracy: 1.0000 - val_loss: 0.0000e+00 - val_accuracy: 1.0000s: 0.0000e+00 - ac - ETA: 56s - loss: 0.0000e+00 - accuracy - ETA: 56s - loss: 0.0000e+00 - accuracy: - ETA: 55s - loss: 0.0000e+00 - accuracy: 1 - ETA: 55s - loss: 0.0000e+00 - accurac - ETA: 55s - loss: 0.0000e+0 - ETA: 54s - loss: 0.0000e+00 - accuracy: 1.0 - ETA: 53s - loss: 0.0000e+00 - accuracy: 1.000 - ETA: 53s - loss: 0.000 - ETA: 52s - loss: 0.0000e+00 - accuracy: 1. - ETA: 52s - loss: 0.0000e+00 - accuracy - ETA: 51s - loss: 0.0000e+0 - ETA: 50s - loss: 0.0000e+00 - accuracy: 1.0 - ETA: 50s - loss: 0.0000e+00 - ETA: 49s - loss: 0.00 - ETA: 47s - loss: 0.0000e+00 - accuracy: 1.000 - ETA: 47s - loss: 0.0000e+00 - accurac - ETA: 47s - loss: 0.0 - ETA: 45s - loss: 0.0000e+00 - accuracy: 1. - ETA: 45s - loss: 0.0000e+00 - accuracy - ETA: 44s - loss: 0.0000e+00 - accurac - ETA: 41s - loss: 0.0000e+00 - - ETA: 39s - loss: 0.0000e+00 - accuracy: - ETA: 39s - lo - ETA: 37s - loss: 0.0000e+00 - accuracy: 1.000 - ETA: 37s - loss: 0.0000e+00 - accuracy: 1.00 - ETA: 37s - loss: 0.0000e+00 - accuracy: 1. - ETA: 36s - loss: - ETA: 31s - loss: 0.0000e+00 - a - ETA: 30s - loss: 0.0000e+00 - accur - ETA: 30s - loss: 0.0000e+00 - accura - ETA: 29s - loss: 0.0000e+00 - accuracy - ETA: 29s - loss: 0.0000e+00 - accuracy - ETA: 28s - loss: 0.0000e+00 - accuracy: 1. - ETA: 28s - loss: 0.0000e+00 - accuracy:  - ETA: 27s - loss: 0.000 - ETA: 26s - loss: 0.0000e+00 - accura - ETA: 25s - loss: 0.0000e+00 - accuracy: - ETA: 25s - loss: 0.0000e - ETA: 23s - loss: 0.0000e+00 - - ETA: 22s - loss: 0.0000e+00 - a - ETA: 21s - loss: 0.0000e+00 - ac - ETA: 20s -  - ETA: 18s - loss: 0.0 - ETA: 16s - loss: 0.0000e+00 - acc - ETA: 16s - loss: 0.0000e+00 - accuracy: - ETA: 15s - loss: 0.0000e+00 - accur - ETA: 14s - loss: - ETA: 12s - loss: 0.0000e+00 - accuracy:  - ETA: 12s - - ETA: 10s - loss: 0.0000e+00 - ac - ETA: 6s - loss: 0.0000e+00 - accu - ETA: 6s - loss: 0.0000e+00 -  - ETA: 5s - loss: 0 - ETA: 4s - loss: 0.0000e+00  - ETA: 4s - loss: 0 - ETA: 3s - loss: 0.0000e+00 - accuracy:  - ETA: 2s - loss: 0.0000e+00 - ac - ETA: 2s - - ETA: 1s - loss: 0.0000e+00 - accuracy:  - ETA: 1s - loss: 0 - ETA: 0s - loss: 0.0000e+00 - accuracy\n",
      "Epoch 24/27\n",
      "1875/1875 [==============================] - 86s 46ms/step - loss: 0.0000e+00 - accuracy: 1.0000 - val_loss: 0.0000e+00 - val_accuracy: 1.00000 - accuracy: 1.00 - ETA: 57s - loss: 0.0000e+00 - accuracy: 1. - ETA: 57s - loss: 0.0000e+00 - accuracy: 1 - ETA: 57s - loss: 0.0000e+00 - accura - ETA: 56s - loss: 0.0000e+00 - accuracy: - ETA: 56s - loss: 0.0000e+00 - accura - ETA: 55s - loss: 0.0000e+00 - accuracy: 1 - ETA: 55s - loss: 0.0000e+00 - accuracy - ETA: 54s - loss: 0.0000e+0 - ETA: 53s - loss: 0.0000 - ETA: 51s - loss: 0.0000e+00 -  - ETA: 50s - loss: 0 - ETA: 49s - loss: 0.0000e+00 - accuracy: 1.000 - ETA: 49s - loss: 0.000 - - ETA: 44s - loss: 0.0000e+00 - acc - ETA: 43s - loss: 0.0000e+00 - accuracy: 1 - ETA: 43s - loss: 0.0000e+00 - accuracy: 1.000 - ETA: 43s - loss: 0.0000e+00 -  - ETA: 42s - loss: 0.0000e+00 - accuracy:  - ETA: 41s - ETA: 36s - loss: 0.0000e+00 - acc - ETA: 35s - loss: 0.0000e+00 - ETA: 34s - ETA: 22s - loss: 0.0000e+00 - accuracy: 1. - ETA: 19s - loss: 0.0000e+00 - accuracy: 1 - ETA: 18s - los - ETA: 16s - loss: 0.0000e+00 - a - ETA: 15s - loss: 0.0000e+00  - ETA: 14s - loss: 0.0000e+00  - ETA: 13s - loss: 0 - ETA: 11s - loss: 0.0000e+00 - accuracy: 1.000 - ETA: 11s - loss: 0.0000e+00 - accuracy: 1 - ETA: 10s - loss: 0.0000e+00 - accuracy: - ETA: 10s - ETA: 8s - loss: 0.0000e+00 - accuracy:  - ETA: 8s - loss: -\n",
      "Epoch 25/27\n",
      "1875/1875 [==============================] - 86s 46ms/step - loss: 0.0000e+00 - accuracy: 1.0000 - val_loss: 0.0000e+00 - val_accuracy: 1.0000TA: 55s - loss: 0.0000 - ETA: 56s - loss: 0.0000e+00 - accuracy: 1.000 - ETA: 56s - loss: 0.0000e+00 - accuracy: 1. - ETA: 56s - loss: 0.0000e+00 - accuracy: 1.000 - ETA: 56s - loss: 0.0000e+00 - accu - ETA: 55s - loss: 0.0000e+00 - accuracy: 1. - ETA: 55s - loss: 0.0000e+00 - accuracy:  - ETA: 55s - loss: 0.0000e+00 - accuracy: 1 - ETA: 54s - loss: 0.0000e+00 - accuracy: 1. - ETA: 54s - loss: 0.0000e+00 - accurac - ETA: 54s - loss: 0.0000e+00 - accuracy: 1.0 - ETA: 53s - loss: 0.0000e+00 - accuracy: 1.000 - ETA: 54s - loss: 0.0000e+00 - accuracy: - ETA: 53s - loss: 0.0000e+00 - accur - ETA: 52s - loss: 0.0 - ETA: 51s - loss: 0.0000e+00 - accuracy: 1.000 - ETA: 51s - loss: 0.0000 - ETA: 50s - loss: 0.0000e+00  - ETA: 48s - loss: 0.0000e+00 - accuracy: 1.00 - ETA: 48s - loss: 0.0 - ETA: 47s - loss: 0.0000e+00 -  - ETA: 46s - loss: 0.0000e+00 - accuracy: - ETA: 46s - loss: 0.0000e - ETA: 44s - loss:  - ETA: 42s - loss: 0.0000e+00 - accuracy: 1.0 - ETA: 42s - loss: 0.0000e+00 - accuracy: 1 - ETA: 42s - loss: 0.0000e+00 - ac - ETA: 41s - loss: 0.0 - ETA: 39s - loss: 0.0000e+00 - accuracy: 1.0 - ETA: 39s - loss: 0.0000e+00 - ETA: 38s - loss: 0. - ETA: 36s - loss: 0.0000e+00 - accuracy: 1. - ETA: 36s - loss: 0.000 - ETA: 35s - lo - ETA: 32s - loss: 0.0000e+00 - accuracy: 1.00 - ETA: 32s - loss: 0.0000e+00 - accuracy: 1.0 - ETA: 32s - loss: 0.0000e+00 - acc - ETA: 31s - loss: 0.0000e+00 - accuracy: 1. - ETA: 31s - loss: 0 - ETA: 29s - loss: 0.0000e+00 - accur - ETA: 29s - loss: 0.0000e+00 - - - ETA: 24s - loss: 0.000 - ETA: 23s - loss: 0.0000e+00 - accuracy:  - ETA: 22s - loss: 0.0000e+00 -  - ETA: 21s - loss: 0.0000e+00 - ETA: 4s - loss: 0.0000e+00 - accura - - E - ETA: 0s - loss: 0\n",
      "Epoch 26/27\n",
      "1875/1875 [==============================] - 86s 46ms/step - loss: 0.0000e+00 - accuracy: 1.0000 - val_loss: 0.0000e+00 - val_accuracy: 1.0000A: 56s - loss: 0.0000e+00 - accuracy: 1.000 - ETA: 56s - loss: 0.0000e+00 - accura - ETA: 56s - loss: 0.0000e+ - ETA: 54s - loss: 0.0000e+00 - accuracy: 1. - ETA: 54s - loss: 0.0000e+ - ETA: 53s - loss: 0.0000e+00 - accuracy: 1 - ETA: 53s - loss: 0.0000e+00 - accuracy - ETA: 52s - loss: 0.0000e+00 - accuracy: 1 - ETA: 52s - loss: 0.0000e+00 - accuracy: 1.000 - ETA: 52s - loss: 0.0000e+00 - acc - ETA: 51s - loss: 0.0000e+00 - accuracy: 1. - ETA: 51s - loss: 0. - ETA: 49s - loss: 0.0000e+00 - accuracy: 1.000 - ETA: 49s - loss: 0.0000e+00 - accuracy: 1. - ETA: 49s - loss: 0.0000e+ - ETA: 48s - loss: 0.0000e+00 - accuracy: 1.000 - ETA: 48s - loss: 0.0000e+00 - ETA: 47s - loss: 0.0000 - ETA: 45s - loss: 0.0000e+00 - accuracy - ETA: 45s - loss: 0.0000e+0 - ETA: 44s - loss: 0.0000e+00 - accur - ETA: 43s - loss: 0.0000e+00 - accu - ETA - ETA: 39s - loss: 0.0000e+00 - accuracy - ETA: 39s - loss: 0.0000e+00 -  - ETA: 38s - loss: 0.0000e+0 - ETA: 37s - l - ETA: 34s - loss:  - ETA: 33s - loss: 0.0000e+00 - accuracy:  - ETA: 32s - loss: 0.0000e+00 - acc - ETA: 31s - loss: 0.0 - ETA: 30s - loss: 0.0000e+00 - - ETA: 29s - loss: 0.0000e+00 - accuracy: 1 - ETA: 28s - loss: 0.000 - ETA: 24s - loss: 0.0000e+00 - accuracy: - ETA: 23s - loss: 0.0000e+00 - accuracy: 1.0 - ETA: 23s - loss: 0.0000e+00 - accuracy:  - ETA: 23s - loss: 0.0000e+00 - accuracy: 1. - ETA: 22s - los - ETA: 20s - l  - ETA: 12 - ETA: 6s - loss: 0.0 - ETA: 0s - loss:\n",
      "Epoch 27/27\n",
      "1875/1875 [==============================] - 86s 46ms/step - loss: 0.0000e+00 - accuracy: 1.0000 - val_loss: 0.0000e+00 - val_accuracy: 1.000055s - loss: 0.0000e+00 - accuracy:  - ETA: 55s - loss: 0.0000e+00 - acc - ETA: 54s - loss: 0.0000e+00 - accuracy: 1.00 - ETA: 54s - loss: 0.0000e+00 - accurac - ETA: 54s - loss: 0.0000e+00 - accuracy:  - ETA: 54s - loss: 0.0000e+00 - accuracy: 1.0 - ETA: 53s - loss: 0.0000e+00 - acc - ETA: 53s - loss: 0.0000e+00 - accuracy: 1.000 - ETA: 53s - loss: - ETA: 51s - loss: 0.0000e+00 - accuracy:  - ETA: 51s - loss: 0.0000e+00 - accuracy:  - ETA: 50s - los - ETA: 48s - loss: 0.0000e+00 - accuracy: 1 - ETA: 48s - loss: 0. - ETA: 44s - loss: 0.0000e+00 - accuracy: 1 - ETA: 43s - loss: 0.0000e+00 - accuracy - ETA: 43s -  - ETA: 41s - loss: 0.0000e+00 - - ETA: 40s - loss: 0.0000e+00 - accuracy - ETA: 39s - loss: 0.0000e+00 - accuracy: 1.000 - ETA: 39s - - ETA: 37s - l - ETA: 35s - loss: 0.0000e+00 - accuracy: 1.0 - ETA: 34s - loss: 0.0000e+00 - accura - ETA: 34s - loss: 0.0000e+00 - - ETA: 33s - loss: 0.0000e+00 - accuracy: - ETA: 32s - loss: 0.0000e+00 - accuracy: 1.000 - ETA: 32s - loss: 0.0000e+00 - accuracy: 1. - ETA: 32s - loss: 0.0000e+00 - accuracy:  - ETA: 32s - loss: 0.0000e+00 - accura - ETA: 31s - loss: 0.0000e+00 - accuracy: 1.0 - ETA: 31s - loss: 0.0000e+00 - accuracy: - ETA: 30s - loss: 0.0000e+00 - accuracy: 1 - ETA: 30s - loss: 0.0000e+00 - acc - ETA: 29s - loss: 0.0000e+00 - accuracy - ETA: 29s - loss: 0.0000e+00 - accur - ETA: 28s - loss: 0 - ETA: 26s - loss: 0.0000e+00 - accur - ETA: 25s - loss: 0.0000e+00 - accuracy:  - ETA: 25s - loss: 0.0000e+00 - accuracy: 1.000 - ETA: 25s - loss: 0.0 - ETA: 23s - loss: 0.0000e+ - ETA: 22s - loss: 0.0000e+00 - accuracy: 1.00 - ETA: 22s - loss: 0.0000e+00 - accuracy: 1.00 - ETA: 21s - loss: 0.0000e+00 - accuracy: - ETA: 21s - loss: 0.0000e+00 - accuracy: 1.000 - ETA: 21s - loss: 0. - ETA: 19s - loss: 0. - ETA: 17s - loss: 0.0000e+00 - accuracy: 1 - ETA: 17s - loss: 0.0000e+00 - accuracy: 1. - ETA: 17s - loss: 0.0000e+00 - accuracy: 1. - ETA: 17s - loss: 0.0000e+00 - accuracy: - ETA: 10s - loss: 0.0000e+00 - a - ETA: 9s - loss: 0.0000e+00 - ac - ETA: 9s - loss: 0.000 - ETA: 8s - loss: 0 - ETA: 7s - loss: 0.0000e+00 - accura - ETA:  - ETA: 5s - loss: 0.0000e+00 - accuracy: 1.00 - ETA: 5s - loss: 0.000 - ETA: 3s - loss: - E - ETA: 0s - los\n"
     ]
    }
   ],
   "source": [
    "#history = model2.fit(x_train, y_train, validation_data=(x_test, y_test),epochs=15)\n",
    "history = model2.fit_generator(train_generator_with_data_augmentation, steps_per_epoch=nb_train_samples/32, \n",
    "                    epochs=27, validation_data=validation_generator,\n",
    "                    validation_steps=nb_val_samples/32)"
   ]
  },
  {
   "cell_type": "code",
   "execution_count": 25,
   "id": "0f69e737",
   "metadata": {},
   "outputs": [
    {
     "data": {
      "image/png": "[encoded data removed]",
      "text/plain": [
       "<Figure size 720x288 with 2 Axes>"
      ]
     },
     "metadata": {
      "needs_background": "light"
     },
     "output_type": "display_data"
    }
   ],
   "source": [
    "#plot \n",
    "figure= plt.figure(figsize=(10,4))\n",
    "ax = plt.subplot(121)\n",
    "ax.plot(history.history['loss'], 'r', label='train')\n",
    "ax.plot(history.history['val_loss'], 'g', label='val')\n",
    "\n",
    "plt.legend()\n",
    "plt.grid(axis='y')\n",
    "plt.xlabel(\"epoch\")\n",
    "plt.ylabel(\"Loss\")\n",
    "\n",
    "ax2 = plt.subplot(122)\n",
    "ax2.plot(history.history['accuracy'], 'b', label=\"train\")\n",
    "ax2.plot(history.history['val_accuracy'], 'g', label=\"val\")\n",
    "plt.legend()\n",
    "plt.xlabel(\"epoch\")\n",
    "plt.ylabel(\"accuracy\")\n",
    "plt.grid(axis='y')\n",
    "plt.savefig(\"cifar10_training_val_with0_maxpool_dropout_augmentation\")"
   ]
  },
  {
   "cell_type": "code",
   "execution_count": 27,
   "id": "52bdb38e",
   "metadata": {},
   "outputs": [],
   "source": [
    "exp_name = \"histogram_weights_analysis\""
   ]
  },
  {
   "cell_type": "code",
   "execution_count": 32,
   "id": "9541bc72",
   "metadata": {},
   "outputs": [],
   "source": [
    "tboard = callbacks.TensorBoard(\n",
    "    log_dir = \"logs/{}\".format(exp_name),\n",
    "    histogram_freq=1,\n",
    "    write_images=True)"
   ]
  },
  {
   "cell_type": "code",
   "execution_count": 33,
   "id": "ebf89409",
   "metadata": {},
   "outputs": [],
   "source": [
    "callbacks = [\n",
    "    tboard\n",
    "]"
   ]
  },
  {
   "cell_type": "code",
   "execution_count": 34,
   "id": "d7e63bbf",
   "metadata": {},
   "outputs": [],
   "source": [
    "model3 =models.Sequential()\n",
    "model3.add(tf.keras.layers.Conv2D(16, (3,3), activation=\"relu\", input_shape=(32,32,3), padding=\"same\"))\n",
    "model3.add(tf.keras.layers.MaxPooling2D(2,2))\n",
    "model3.add(tf.keras.layers.Conv2D(16, (3,3), activation=\"relu\", padding=\"same\"))\n",
    "model3.add(tf.keras.layers.Flatten())\n",
    "model3.add(tf.keras.layers.Dropout(0.4))\n",
    "model3.add(tf.keras.layers.Dense(64, activation=\"relu\"))\n",
    "model3.add(tf.keras.layers.Dense(10))"
   ]
  },
  {
   "cell_type": "code",
   "execution_count": 35,
   "id": "88d32143",
   "metadata": {},
   "outputs": [],
   "source": [
    "model3.compile(optimizer=optimizer_fn,\n",
    "              loss=loss_fn,\n",
    "              metrics=['accuracy'])"
   ]
  },
  {
   "cell_type": "code",
   "execution_count": 36,
   "id": "f227351c",
   "metadata": {},
   "outputs": [
    {
     "name": "stdout",
     "output_type": "stream",
     "text": [
      "Epoch 1/5\n",
      "1875/1875 [==============================] - 81s 43ms/step - loss: 0.0013 - accuracy: 0.9995 - val_loss: 0.0000e+00 - val_accuracy: 1.0000\n",
      "Epoch 2/5\n",
      "1875/1875 [==============================] - 85s 45ms/step - loss: 0.0000e+00 - accuracy: 1.0000 - val_loss: 0.0000e+00 - val_accuracy: 1.0000 1.000 - ETA: 50s - loss: 0.0000e+00 - accurac - ETA: 44s - loss: 0. - ETA: 43s - loss: 0.0000e+ - ETA: 41s - loss: 0.0000e+00 - accuracy: - ETA: 41s - loss: 0.0000e+00 - accuracy:  - ETA: 4 - ETA: 36s - loss: 0.0000e+00 - - ETA: 35s - loss: 0.0000e+00  - ETA: 34s - loss - ETA: 32s - lo - ETA: 30s - loss: 0.0000e+00 - ac - ETA: 29s - loss: 0.0000e+00 - accuracy: 1.000 - ETA: 29s - loss: 0.0000e+00  - ETA: 28s - loss: 0.0000e+00 - accura - ETA: 27s - loss: 0.0000e+00 - accuracy:  - ETA: 27s - loss: 0.0000e+00 - a - ETA: 26s - loss: 0.0000e+0 - ETA: 25s - - ETA: 23s - loss: 0.0000e+00 - accuracy: 1.00 - ETA: 23 - ETA: 20s - loss: 0.0000e+00 - accuracy: 1.00 - ETA: 20s - loss: 0.0000e+00 - accuracy: 1. - ETA: 20s - loss: 0.0000e+00 - accuracy: 1. - ETA: 20s - loss: 0.0000e+00 - accuracy: 1.0 - ETA: 20s - loss: - ETA: 18s - loss: 0.0000e+00 - accuracy: 1.00 - ETA: 18s - loss: 0.0000e+00 - accuracy:  - ETA: 17s - loss: 0.0000e+00 - accuracy:  - ETA: 17s - loss: 0.0000e+00  - ETA: 13s - loss: 0.0000e+00 - - ETA: 12s - loss: 0.0000e+00 - accuracy: 1.0 - ETA: 12s - loss: 0.0000e+00 - accuracy: 1. - ETA: 11s - loss: 0.0000e+00 - a - ETA: 10s - loss: 0.0000e+00 - accuracy: - ETA: 10s - loss: 0.0 - ETA: 9s - loss: 0.0000e+00 - accu - ETA: 9s - loss: 0.000 - ETA: 8s - loss: 0.0000e+00 - accura - ETA: 7s - los - ETA: 7s - loss: 0.0000e+00  - ETA: 4s - - - ETA: 0s - loss: 0.0000e+00 - accura - ETA: 0s - loss: 0.0000e+00 - accuracy - ETA: 0s - loss: 0.0000e+00 - \n",
      "Epoch 3/5\n",
      "1875/1875 [==============================] - 88s 47ms/step - loss: 0.0000e+00 - accuracy: 1.0000 - val_loss: 0.0000e+00 - val_accuracy: 1.0000ss: 0.0000e+00 - accuracy: 1.00 - ETA: 51s - loss: 0.0000e+00 - accuracy - ETA: 51s - loss: 0.0000e+00 - accuracy: 1. - ETA: 48s - loss: - ETA: 47s - loss: 0.0000e+00 - accuracy: - ETA: 43s - loss: 0.0000e+00 - accuracy - ETA: 43s - loss: 0.0000e+00 - accuracy:  - ETA: 43s - loss: 0.0000e+00 -  - ETA: 42s - loss: 0.0000e+00 - accuracy: 1. - ETA: 42s - loss: 0.0000e - ETA: 40s - loss: 0.0000e+00  - ETA: 39s - loss: 0.0000e+00 - accuracy: 1.0 - ETA: 39s - loss: 0.0000e+00 - accurac - ETA: 39s - loss: 0.0000e+00 - accuracy: 1.0 - ETA: 39s - loss: 0.0000 - ETA: 37s - loss: 0.0000e+00 -  - ETA: 36s - loss: 0.0000e+00 - accurac - ETA: 36s - loss: 0.0000e+00 - accuracy: 1.000 - ETA: 36s - loss: 0.0000e+00 - accuracy: 1. - ETA: 35s - loss: 0.0000e+00 -  - ETA: 34s - loss: 0.0000e+00 - accuracy: - ETA: 34s - loss: 0.0000e+00 - acc - ETA: 33s - loss: 0.0000e+00 - accuracy: 1.0 - ETA: 33s - loss: 0.0000e+00 - a - ETA: 32s - loss: 0.0000e+00 - accur - ETA: 32s - loss: 0.0000e+00 - accuracy: 1.0 - ETA: 31s - loss: 0.0000e+00 - accuracy: 1.000 - ETA: 31s - loss: 0.0000e+00 - accuracy:  - ETA: 31s - loss: 0.0000e+00 - accuracy:  - ETA: 31s - loss: 0.0000e+00 - accuracy:  - ETA: 30s - loss: 0.0000e+00 - acc - ETA: 29s - loss: 0.0000e+00 - accuracy - ETA: 29s - loss: 0.0000e+00 - accuracy:  - ETA: 29s - loss: 0.0000e+00 - accuracy: - ETA: 28s - loss: 0.0000e+00 - accu - ETA: 27s - loss: 0.0000e+00 - acc - ETA: 27s - loss: 0.0000e+00 - accura - ETA: 26s - ETA: 24s - loss: 0.0000e+00 - accuracy: 1. - ETA: 24s - loss: 0.0000e+00 - acc - ETA - ETA: 20s - loss: 0.0000e+00 - accuracy: 1.0 - ETA: 20s - loss:  - ETA: 18s - ETA: 13s - loss: 0.0000e+00 - accuracy: 1.000 - ETA:  - ETA: 0s - loss: 0.000 - ETA: 0s - loss: 0.0000e+00 - accuracy: \n",
      "Epoch 4/5\n",
      "1875/1875 [==============================] - 88s 47ms/step - loss: 0.0000e+00 - accuracy: 1.0000 - val_loss: 0.0000e+00 - val_accuracy: 1.0000 ETA: 52s - loss - ETA: 50s - loss: 0.0000e+00 - accuracy:  - ETA: 50s - loss: 0.0000e+00 - accura - ETA: 50s - loss: 0.0000e+00 - ETA: 49s - loss: 0.0000e+00 - accuracy: 1.000 - ETA: 49s - loss: 0.0000e+00 - ac - ETA: 48s - loss: 0.0000e+00 - accuracy: 1.000 - ETA: 48s - loss: 0.0000e+00 - accuracy - ETA: 47s - loss: 0.0000e+00 - accuracy: 1.0 - ETA: 47s - loss: 0.0000e+00 - accuracy: 1.0 - ETA: 47s - loss: 0.0000e+00 - accuracy: - ETA: 47s - loss: 0.0000e+00 - accuracy - ETA: 46s - loss: 0.0000e+00 - a - ETA: 46s - loss: 0.0000e+00 - accu - ETA: 45s - lo - ETA: 43s - loss - ETA: 42s - loss: 0.0000e+00 - accuracy: 1.00 - ETA: 41s - loss: 0.0000e+00 - accuracy: 1.0 - ETA: 41s - loss: 0.0000e+00 - accuracy: 1.00 - ETA: 41s - loss: 0.0000e+00 - accuracy:  - ETA: 41s - loss: 0.0000e+00 - accur - ETA: 40s - loss: 0.0000e+00 - accuracy: 1 - ETA: 40s - loss: 0.0000e+00 - accuracy: 1.00 - ETA: 40s - loss: 0.0000e+ - ETA: 39s - loss: 0.0000e+00 - accuracy: 1.0 - ETA: 38s - loss: 0.0000e+00 - accurac - ETA: 38s - loss: 0.0000e+00 - accur - ETA: 37s - loss: 0.0000e+00 - accuracy: 1.00 - ETA: 37s - loss: 0.0000 - ETA: 36s - loss: 0.0000e+00 - accuracy: 1.0 - ETA: 36s - loss: 0.0000e+00 - accuracy:  - ETA: 35s - loss: 0.0000e+00 - accuracy: 1.0 - ETA: 35s - los - ETA: 33s - loss: 0.0000e+00 - accuracy:  - ETA: 33s - loss: 0.0000e+00 - - ETA: 32s - loss: 0.0000e+00 - accurac - ETA: 31s - loss: 0.0000e+00 - ac - ETA: 30s - loss: 0.0000e+00 - a - ETA: 30s - loss: 0.0000e+00 - accura - ETA: 29s - loss: 0.0000e+00 - accuracy: 1 - ETA: 29s - loss: 0.0000e+00 - accuracy: - ETA: 28s - loss: 0.0000e+00 - accuracy: - ETA: 28s - - ETA: 26s - loss: 0.0000e+00 - accuracy:  - ETA: 25s - loss: 0.0000e+00 - accuracy: 1.000 - ETA: 25s - loss: 0.0000e+00 - accu - ETA: 24s - loss: 0.0000e+00 - accur - ETA: 21s - loss: 0 - ETA: 1 - ETA: 16s - loss: 0.0000e+00 - accurac - ETA: 16s - loss: 0.0000e+00 - accuracy:  - ETA: 15s - loss: 0.0000e+00 - accuracy - ETA: 15s - loss: 0.0000e+00 - accuracy:  - ETA: 15s - loss: 0.0000e+00 - accu - ETA: 14s - loss: 0.0000e+00 - accura - ETA: 13s - loss: 0.0000 - ETA: 12s - loss: 0.0000e+00 - accuracy: - ETA: 11s - loss: 0.0000e+00  - ETA: 10s - loss: 0.0000e+00 - accuracy: 1. - ETA: 10s - loss: 0.00 - ETA: 9s - loss: 0.0000e+00 - accuracy: 1.00 - ETA: 9s - loss: 0.0000e+00 - accuracy:  - ETA: 9s - loss: 0.0000e+0 - E - ETA: 2s - loss: 0.0000e+00 - accuracy: 1.00 - ETA: 2s - loss: 0.0000e - - ETA: 0s - loss: 0.0000e+00 - accura\n",
      "Epoch 5/5\n",
      "1875/1875 [==============================] - 88s 47ms/step - loss: 0.0000e+00 - accuracy: 1.0000 - val_loss: 0.0000e+00 - val_accuracy: 1.000000e+00 - accuracy: 1.0 - ETA: 47s - los - ETA: 45s - loss: 0.0000e+00 - - ETA: 44s - loss: 0.0000e+00 - a - ETA: 43s - loss: 0.0000e+00 - accuracy - ETA: 43s - loss: 0.0000e+00 - accuracy: 1 - ETA: 43s - loss: 0.0000e+00 - accuracy - ETA: 42s - loss: 0.0000e+00 - accuracy: 1 - ETA: 42s - loss: 0.0000e+00 - accuracy: - ETA: 42s - loss: 0.0000e+00 - accuracy: 1.000 - ETA: 42s - loss: 0.0000e+00 - accuracy: 1.000 - ETA: 42s - loss: 0.0000e+00 - a - ETA: 41s - loss: 0.0000e+00 - accuracy: 1.00 - ETA: 41s - loss: 0.0000e+00 -  - ETA: 40s - loss: 0.0000e+00 - accuracy: 1 - ETA: 39s - loss: 0.0000e+00 - accuracy - ETA: 39s - loss: 0. - ETA: 37s - loss: 0.0000 - ETA: 36s - loss: 0.0000e+00 - accur - ETA: 35s - loss: 0.0000e+00 -  - ETA: 34s - loss: 0.0000e+00 - accu - ETA: 34s - loss: 0.000 - ETA: 32s - loss: 0.00 - ETA: 31s - loss: 0.0000e+00  - ETA: 30s - loss: 0.0000e+00 - ac - ETA: 29s - loss: 0.0000 - ETA: 28s - loss: 0.0000e+00 -  - ETA: 27s - loss: 0.0000e+00 - accuracy: 1 - ETA: 26s - loss: 0.0000e+00 - accuracy:  - ETA: 23s - loss: 0.0000e+00 - accuracy: 1.00 - ETA: 23s - loss: 0.0000e+00 - accu - ETA: 22s - loss: 0. - ETA: - ETA: 18s - loss:  - ETA: 16s - loss: 0.0000e+00 - ETA: 15s - loss: 0.0000e+00 - ac - ETA: 14s - loss: 0.0000e+00  - ETA: 13s - loss: 0.0000e+00 - accura - ETA: 12s - loss: 0.0000e+00 - accuracy:  - ETA: 9s - ETA: 8s - loss: 0.0000e+00 - accuracy:  - ETA: 0s - loss: 0.0000e+00 - accu\n"
     ]
    }
   ],
   "source": [
    "history3 = model3.fit_generator(train_generator_with_data_augmentation, steps_per_epoch=nb_train_samples/32, \n",
    "                    epochs=5, validation_data=validation_generator,\n",
    "                    validation_steps=nb_val_samples/32, callbacks=callbacks)"
   ]
  },
  {
   "cell_type": "code",
   "execution_count": 38,
   "id": "d0d8210d",
   "metadata": {},
   "outputs": [
    {
     "data": {
      "text/html": [
       "\n",
       "      <iframe id=\"tensorboard-frame-cca98c73ececb8ee\" width=\"100%\" height=\"800\" frameborder=\"0\">\n",
       "      </iframe>\n",
       "      <script>\n",
       "        (function() {\n",
       "          const frame = document.getElementById(\"tensorboard-frame-cca98c73ececb8ee\");\n",
       "          const url = new URL(\"/\", window.location);\n",
       "          const port = 6006;\n",
       "          if (port) {\n",
       "            url.port = port;\n",
       "          }\n",
       "          frame.src = url;\n",
       "        })();\n",
       "      </script>\n",
       "    "
      ],
      "text/plain": [
       "<IPython.core.display.HTML object>"
      ]
     },
     "metadata": {},
     "output_type": "display_data"
    }
   ],
   "source": [
    "%load_ext tensorboard\n",
    "%tensorboard --logdir logs/fit"
   ]
  },
  {
   "cell_type": "code",
   "execution_count": null,
   "id": "370009cd",
   "metadata": {},
   "outputs": [],
   "source": []
  },
  {
   "cell_type": "code",
   "execution_count": null,
   "id": "5431cdb9",
   "metadata": {},
   "outputs": [],
   "source": []
  }
 ],
 "metadata": {
  "kernelspec": {
   "display_name": "Python 3",
   "language": "python",
   "name": "python3"
  },
  "language_info": {
   "codemirror_mode": {
    "name": "ipython",
    "version": 3
   },
   "file_extension": ".py",
   "mimetype": "text/x-python",
   "name": "python",
   "nbconvert_exporter": "python",
   "pygments_lexer": "ipython3",
   "version": "3.8.8"
  }
 },
 "nbformat": 4,
 "nbformat_minor": 5
}
